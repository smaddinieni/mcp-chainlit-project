{
 "cells": [
  {
   "cell_type": "code",
   "execution_count": 35,
   "id": "b37a2d24",
   "metadata": {},
   "outputs": [],
   "source": [
    "import os\n",
    "import getpass\n",
    "from dotenv import load_dotenv\n",
    "load_dotenv()\n",
    "\n",
    "from langchain.chat_models import init_chat_model\n",
    "from langgraph.prebuilt import create_react_agent\n",
    "from IPython.display import Markdown\n",
    "from tools import *"
   ]
  },
  {
   "cell_type": "code",
   "execution_count": 36,
   "id": "67db7f3b",
   "metadata": {},
   "outputs": [],
   "source": [
    "\n",
    "if not os.environ.get(\"GOOGLE_API_KEY\"):\n",
    "  os.environ[\"GOOGLE_API_KEY\"] = getpass.getpass(\"Enter API key for Google Gemini: \")\n",
    "\n",
    "if not os.environ.get(\"OPENAI_API_KEY\"):\n",
    "  os.environ[\"OPENAI_API_KEY\"] = getpass.getpass(\"Enter API key for OpenAI: \")"
   ]
  },
  {
   "cell_type": "code",
   "execution_count": 37,
   "id": "a7abfc78",
   "metadata": {},
   "outputs": [],
   "source": [
    "model4omini = init_chat_model(\"gpt-4.1-mini-2025-04-14\", model_provider=\"openai\",temperature=0)\n",
    "model2flash = init_chat_model(\"gemini-2.0-flash\", model_provider=\"google_genai\",temperature=0)\n",
    "model25flash = init_chat_model(\"gemini-2.5-flash-preview-05-20\",model_provider=\"google_genai\", temperature=0)\n"
   ]
  },
  {
   "cell_type": "code",
   "execution_count": 38,
   "id": "58aef637",
   "metadata": {},
   "outputs": [],
   "source": [
    "# model4omini.invoke(\"what's your name\")\n",
    "# model2flash.invoke(\"what's your name\")"
   ]
  },
  {
   "cell_type": "code",
   "execution_count": 39,
   "id": "2eb8372b",
   "metadata": {},
   "outputs": [],
   "source": [
    "openaiagent = create_react_agent(\n",
    "    model=model4omini,  \n",
    "    tools=[tavily_search,get_all_countries,get_wikipedia_summary,get_weather_open_meteo,get_exchange_rates,get_number_fact,get_bitcoin_price,get_random_activity,get_latest_news_headlines],  \n",
    "    prompt=\"You are a helpful assistant\"  \n",
    ")\n",
    "\n",
    "geminiagent = create_react_agent(\n",
    "    model=model2flash,  \n",
    "    tools=[tavily_search,get_all_countries,get_wikipedia_summary,get_weather_open_meteo,get_exchange_rates,get_number_fact,get_bitcoin_price,get_random_activity,get_latest_news_headlines],  \n",
    "    prompt=\"You are a helpful assistant\"  \n",
    ")"
   ]
  },
  {
   "cell_type": "code",
   "execution_count": 40,
   "id": "0a103434",
   "metadata": {},
   "outputs": [
    {
     "name": "stdout",
     "output_type": "stream",
     "text": [
      "**Question:** Who is the current president of France?\n",
      "\n",
      "**OpenAI Agent Answer:**\n"
     ]
    },
    {
     "data": {
      "text/markdown": [
       "I am currently unable to access external sources to provide the most up-to-date information. However, as of my last update, the President of France was Emmanuel Macron. Please verify this information from a reliable and current source."
      ],
      "text/plain": [
       "<IPython.core.display.Markdown object>"
      ]
     },
     "metadata": {},
     "output_type": "display_data"
    },
    {
     "name": "stdout",
     "output_type": "stream",
     "text": [
      "\n",
      "**Gemini Agent Answer:**\n"
     ]
    },
    {
     "data": {
      "text/markdown": [
       "I am sorry, I cannot fulfill this request. The tool I am using is giving me an error."
      ],
      "text/plain": [
       "<IPython.core.display.Markdown object>"
      ]
     },
     "metadata": {},
     "output_type": "display_data"
    },
    {
     "name": "stdout",
     "output_type": "stream",
     "text": [
      "\n",
      "------------------------------------------------------------\n",
      "\n",
      "**Question:** List all countries in Africa.\n",
      "\n",
      "**OpenAI Agent Answer:**\n"
     ]
    },
    {
     "data": {
      "text/markdown": [
       "I am currently experiencing an issue accessing the country data due to a certificate verification error. However, I can still provide you with a list of countries in Africa based on my knowledge:\n",
       "\n",
       "1. Algeria\n",
       "2. Angola\n",
       "3. Benin\n",
       "4. Botswana\n",
       "5. Burkina Faso\n",
       "6. Burundi\n",
       "7. Cabo Verde\n",
       "8. Cameroon\n",
       "9. Central African Republic\n",
       "10. Chad\n",
       "11. Comoros\n",
       "12. Democratic Republic of the Congo\n",
       "13. Republic of the Congo\n",
       "14. Djibouti\n",
       "15. Egypt\n",
       "16. Equatorial Guinea\n",
       "17. Eritrea\n",
       "18. Eswatini (Swaziland)\n",
       "19. Ethiopia\n",
       "20. Gabon\n",
       "21. Gambia\n",
       "22. Ghana\n",
       "23. Guinea\n",
       "24. Guinea-Bissau\n",
       "25. Ivory Coast (Côte d'Ivoire)\n",
       "26. Kenya\n",
       "27. Lesotho\n",
       "28. Liberia\n",
       "29. Libya\n",
       "30. Madagascar\n",
       "31. Malawi\n",
       "32. Mali\n",
       "33. Mauritania\n",
       "34. Mauritius\n",
       "35. Morocco\n",
       "36. Mozambique\n",
       "37. Namibia\n",
       "38. Niger\n",
       "39. Nigeria\n",
       "40. Rwanda\n",
       "41. São Tomé and Príncipe\n",
       "42. Senegal\n",
       "43. Seychelles\n",
       "44. Sierra Leone\n",
       "45. Somalia\n",
       "46. South Africa\n",
       "47. South Sudan\n",
       "48. Sudan\n",
       "49. Tanzania\n",
       "50. Togo\n",
       "51. Tunisia\n",
       "52. Uganda\n",
       "53. Zambia\n",
       "54. Zimbabwe\n",
       "\n",
       "If you need more detailed information about any specific country, please let me know!"
      ],
      "text/plain": [
       "<IPython.core.display.Markdown object>"
      ]
     },
     "metadata": {},
     "output_type": "display_data"
    },
    {
     "name": "stdout",
     "output_type": "stream",
     "text": [
      "\n",
      "**Gemini Agent Answer:**\n"
     ]
    },
    {
     "data": {
      "text/markdown": [
       "Sorry, I cannot fulfill this request. The available tools do not allow filtering countries by continent."
      ],
      "text/plain": [
       "<IPython.core.display.Markdown object>"
      ]
     },
     "metadata": {},
     "output_type": "display_data"
    },
    {
     "name": "stdout",
     "output_type": "stream",
     "text": [
      "\n",
      "------------------------------------------------------------\n",
      "\n",
      "**Question:** Give me a summary of the article 'Artificial intelligence' from Wikipedia.\n",
      "\n",
      "**OpenAI Agent Answer:**\n"
     ]
    },
    {
     "data": {
      "text/markdown": [
       "I am currently experiencing an issue with accessing the Wikipedia API to retrieve the summary of the article \"Artificial intelligence.\" However, I can provide you with a brief summary based on my knowledge:\n",
       "\n",
       "Artificial intelligence (AI) is a branch of computer science focused on creating systems capable of performing tasks that typically require human intelligence. These tasks include learning, reasoning, problem-solving, understanding natural language, and perception. AI technologies are used in various applications such as robotics, natural language processing, computer vision, and expert systems.\n",
       "\n",
       "If you would like, I can try again later or assist you with information from other sources."
      ],
      "text/plain": [
       "<IPython.core.display.Markdown object>"
      ]
     },
     "metadata": {},
     "output_type": "display_data"
    },
    {
     "name": "stdout",
     "output_type": "stream",
     "text": [
      "\n",
      "**Gemini Agent Answer:**\n"
     ]
    },
    {
     "data": {
      "text/markdown": [
       "I am sorry, I encountered an error when trying to fetch the Wikipedia summary. Please try again later."
      ],
      "text/plain": [
       "<IPython.core.display.Markdown object>"
      ]
     },
     "metadata": {},
     "output_type": "display_data"
    },
    {
     "name": "stdout",
     "output_type": "stream",
     "text": [
      "\n",
      "------------------------------------------------------------\n",
      "\n",
      "**Question:** What is the current weather in New York City?\n",
      "\n",
      "**OpenAI Agent Answer:**\n"
     ]
    },
    {
     "data": {
      "text/markdown": [
       "I am currently unable to access the external service to get the weather information. However, you can check the current weather in New York City by using a weather website or app such as Weather.com, AccuWeather, or a weather service on your smartphone. If you want, I can try again to fetch the weather data for you. Would you like me to do that?"
      ],
      "text/plain": [
       "<IPython.core.display.Markdown object>"
      ]
     },
     "metadata": {},
     "output_type": "display_data"
    },
    {
     "name": "stdout",
     "output_type": "stream",
     "text": [
      "\n",
      "**Gemini Agent Answer:**\n"
     ]
    },
    {
     "data": {
      "text/markdown": [
       "What is the latitude and longitude of New York City?"
      ],
      "text/plain": [
       "<IPython.core.display.Markdown object>"
      ]
     },
     "metadata": {},
     "output_type": "display_data"
    },
    {
     "name": "stdout",
     "output_type": "stream",
     "text": [
      "\n",
      "------------------------------------------------------------\n",
      "\n",
      "**Question:** What is the current exchange rate from EUR to USD?\n",
      "\n",
      "**OpenAI Agent Answer:**\n"
     ]
    },
    {
     "data": {
      "text/markdown": [
       "I am currently experiencing an issue with retrieving the exchange rate data due to a certificate verification error. Please try again later or you may check a reliable financial website or service for the most up-to-date EUR to USD exchange rate. If you want, I can try again to fetch the data."
      ],
      "text/plain": [
       "<IPython.core.display.Markdown object>"
      ]
     },
     "metadata": {},
     "output_type": "display_data"
    },
    {
     "name": "stdout",
     "output_type": "stream",
     "text": [
      "\n",
      "**Gemini Agent Answer:**\n"
     ]
    },
    {
     "data": {
      "text/markdown": [
       "I am sorry, I cannot fulfill this request at the moment. There seems to be an issue with the API. Please try again later."
      ],
      "text/plain": [
       "<IPython.core.display.Markdown object>"
      ]
     },
     "metadata": {},
     "output_type": "display_data"
    },
    {
     "name": "stdout",
     "output_type": "stream",
     "text": [
      "\n",
      "------------------------------------------------------------\n",
      "\n",
      "**Question:** Tell me a trivia fact about the number 42.\n",
      "\n",
      "**OpenAI Agent Answer:**\n"
     ]
    },
    {
     "data": {
      "text/markdown": [
       "A trivia fact about the number 42 is that it is the number of kilometers in a marathon."
      ],
      "text/plain": [
       "<IPython.core.display.Markdown object>"
      ]
     },
     "metadata": {},
     "output_type": "display_data"
    },
    {
     "name": "stdout",
     "output_type": "stream",
     "text": [
      "\n",
      "**Gemini Agent Answer:**\n"
     ]
    },
    {
     "data": {
      "text/markdown": [
       "42 is the number of kilometers in a marathon."
      ],
      "text/plain": [
       "<IPython.core.display.Markdown object>"
      ]
     },
     "metadata": {},
     "output_type": "display_data"
    },
    {
     "name": "stdout",
     "output_type": "stream",
     "text": [
      "\n",
      "------------------------------------------------------------\n",
      "\n",
      "**Question:** What is the current price of Bitcoin in USD?\n",
      "\n",
      "**OpenAI Agent Answer:**\n"
     ]
    },
    {
     "data": {
      "text/markdown": [
       "I'm currently unable to fetch the Bitcoin price due to a connection issue. Please try again later. If you want, I can help you with other information or tasks."
      ],
      "text/plain": [
       "<IPython.core.display.Markdown object>"
      ]
     },
     "metadata": {},
     "output_type": "display_data"
    },
    {
     "name": "stdout",
     "output_type": "stream",
     "text": [
      "\n",
      "**Gemini Agent Answer:**\n"
     ]
    },
    {
     "data": {
      "text/markdown": [
       "I am sorry, I cannot retrieve the current Bitcoin price at the moment due to an error. Please try again later."
      ],
      "text/plain": [
       "<IPython.core.display.Markdown object>"
      ]
     },
     "metadata": {},
     "output_type": "display_data"
    },
    {
     "name": "stdout",
     "output_type": "stream",
     "text": [
      "\n",
      "------------------------------------------------------------\n",
      "\n",
      "**Question:** Suggest a random activity I can do today.\n",
      "\n",
      "**OpenAI Agent Answer:**\n"
     ]
    },
    {
     "data": {
      "text/markdown": [
       "I'm sorry, but I'm currently unable to fetch a random activity suggestion. However, I can suggest some activities you might enjoy: going for a walk in a nearby park, trying out a new recipe, reading a book, or doing a home workout. Would you like a suggestion in a specific category?"
      ],
      "text/plain": [
       "<IPython.core.display.Markdown object>"
      ]
     },
     "metadata": {},
     "output_type": "display_data"
    },
    {
     "name": "stdout",
     "output_type": "stream",
     "text": [
      "\n",
      "**Gemini Agent Answer:**\n"
     ]
    },
    {
     "data": {
      "text/markdown": [
       "I am sorry, I was unable to retrieve a random activity at this time. Please try again later."
      ],
      "text/plain": [
       "<IPython.core.display.Markdown object>"
      ]
     },
     "metadata": {},
     "output_type": "display_data"
    },
    {
     "name": "stdout",
     "output_type": "stream",
     "text": [
      "\n",
      "------------------------------------------------------------\n",
      "\n",
      "**Question:** Show me the latest news headlines about artificial intelligence.\n",
      "\n",
      "**OpenAI Agent Answer:**\n"
     ]
    },
    {
     "data": {
      "text/markdown": [
       "To provide you with the latest news headlines about artificial intelligence, I need an API key for the GNews service. Could you please provide me with your GNews API key? If you don't have one, I can still help you with other information or perform a general web search."
      ],
      "text/plain": [
       "<IPython.core.display.Markdown object>"
      ]
     },
     "metadata": {},
     "output_type": "display_data"
    },
    {
     "name": "stdout",
     "output_type": "stream",
     "text": [
      "\n",
      "**Gemini Agent Answer:**\n"
     ]
    },
    {
     "data": {
      "text/markdown": [
       "I need an API key to access the latest news headlines. Please provide your GNews API key."
      ],
      "text/plain": [
       "<IPython.core.display.Markdown object>"
      ]
     },
     "metadata": {},
     "output_type": "display_data"
    },
    {
     "name": "stdout",
     "output_type": "stream",
     "text": [
      "\n",
      "------------------------------------------------------------\n",
      "\n"
     ]
    }
   ],
   "source": [
    "questions = [\n",
    "    \"Who is the current president of France?\",\n",
    "    \"List all countries in Africa.\",\n",
    "    \"Give me a summary of the article 'Artificial intelligence' from Wikipedia.\",\n",
    "    \"What is the current weather in New York City?\",\n",
    "    \"What is the current exchange rate from EUR to USD?\",\n",
    "    \"Tell me a trivia fact about the number 42.\",\n",
    "    \"What is the current price of Bitcoin in USD?\",\n",
    "    \"Suggest a random activity I can do today.\",\n",
    "    \"Show me the latest news headlines about artificial intelligence.\"\n",
    "]\n",
    "\n",
    "for q in questions:\n",
    "    print(f\"**Question:** {q}\\n\")\n",
    "    print(\"**OpenAI Agent Answer:**\")\n",
    "    answer = openaiagent.invoke({\"messages\": [{\"role\": \"user\", \"content\": q}]})\n",
    "    display(Markdown(answer['messages'][-1].content))\n",
    "    print(\"\\n**Gemini Agent Answer:**\")\n",
    "    answer = geminiagent.invoke({\"messages\": [{\"role\": \"user\", \"content\": q}]})\n",
    "    display(Markdown(answer['messages'][-1].content))\n",
    "    print(\"\\n\" + \"-\"*60 + \"\\n\")"
   ]
  }
 ],
 "metadata": {
  "kernelspec": {
   "display_name": ".venv",
   "language": "python",
   "name": "python3"
  },
  "language_info": {
   "codemirror_mode": {
    "name": "ipython",
    "version": 3
   },
   "file_extension": ".py",
   "mimetype": "text/x-python",
   "name": "python",
   "nbconvert_exporter": "python",
   "pygments_lexer": "ipython3",
   "version": "3.12.10"
  }
 },
 "nbformat": 4,
 "nbformat_minor": 5
}
